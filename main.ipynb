{
  "nbformat": 4,
  "nbformat_minor": 0,
  "metadata": {
    "colab": {
      "provenance": [],
      "collapsed_sections": [
        "Rh08kAld5mv-",
        "jrTadS_i5yMq",
        "9qvOoZGO6eYS"
      ],
      "authorship_tag": "ABX9TyMap50t33na55eXhrSL+J3c"
    },
    "kernelspec": {
      "name": "python3",
      "display_name": "Python 3"
    },
    "language_info": {
      "name": "python"
    }
  },
  "cells": [
    {
      "cell_type": "markdown",
      "source": [
        "##Configuração Google Drive"
      ],
      "metadata": {
        "id": "Rh08kAld5mv-"
      }
    },
    {
      "cell_type": "code",
      "source": [
        "from pydrive.auth import GoogleAuth\n",
        "from pydrive.drive import GoogleDrive\n",
        "from google.colab import auth\n",
        "from oauth2client.client import GoogleCredentials\n",
        "\n",
        "# Authenticate and create the PyDrive client.\n",
        "auth.authenticate_user()\n",
        "gauth = GoogleAuth()\n",
        "gauth.credentials = GoogleCredentials.get_application_default()\n",
        "drive = GoogleDrive(gauth)\n",
        "\n",
        "# Dowloand do Arquivo\n",
        "file_id = '1WaymK35JtvGMsHtjck4EFJlFUSyPfz8r'\n",
        "downloaded = drive.CreateFile({'id':file_id})\n",
        "downloaded.FetchMetadata(fetch_all=True)\n",
        "downloaded.GetContentFile(downloaded.metadata['title'])\n"
      ],
      "metadata": {
        "id": "hCs2HY11M-3O"
      },
      "execution_count": 30,
      "outputs": []
    },
    {
      "cell_type": "markdown",
      "source": [
        "##Importação das Bibliotecas"
      ],
      "metadata": {
        "id": "jrTadS_i5yMq"
      }
    },
    {
      "cell_type": "code",
      "source": [
        "!pip install pandera"
      ],
      "metadata": {
        "id": "hdCIeRd66TYw"
      },
      "execution_count": null,
      "outputs": []
    },
    {
      "cell_type": "code",
      "source": [
        "import pandas as pd\n",
        "import pandera as pa\n",
        "import numpy as np"
      ],
      "metadata": {
        "id": "d3_m31rN50Dt"
      },
      "execution_count": null,
      "outputs": []
    },
    {
      "cell_type": "markdown",
      "source": [
        "##Extração do dataset"
      ],
      "metadata": {
        "id": "9qvOoZGO6eYS"
      }
    },
    {
      "cell_type": "code",
      "source": [
        "df_2 = pd.read_json(\"dados_para_api.json\") "
      ],
      "metadata": {
        "id": "oSItV96CNZw4"
      },
      "execution_count": null,
      "outputs": []
    }
  ]
}