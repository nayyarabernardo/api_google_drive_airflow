{
  "nbformat": 4,
  "nbformat_minor": 0,
  "metadata": {
    "colab": {
      "provenance": [],
      "authorship_tag": "ABX9TyNSqI+K56ZyIY8s7gJnyq5Y"
    },
    "kernelspec": {
      "name": "python3",
      "display_name": "Python 3"
    },
    "language_info": {
      "name": "python"
    }
  },
  "cells": [
    {
      "cell_type": "markdown",
      "source": [
        "Você deve acessar o arquivo JSON disponibilizado no seguinte link: https://drive.google.com/drive/folders/1fdNuQje5ZUWrm3cWMPPDtypTkpgRwg3Q?usp=sharing\n",
        "\n",
        "E enviar estes dados para uma planilha no Google Sheets.\n",
        "\n",
        "Atenção:\n",
        "Você deve criar um repositório público e não listado em um GIT para compartilhar conosco;\n",
        "Compartilhar o Sheets final (o link precisa ser público);\n",
        "Lembrar de pôr no repositório os arquivos da automação;"
      ],
      "metadata": {
        "id": "Xkuzx8xAEvnT"
      }
    },
    {
      "cell_type": "markdown",
      "source": [
        "##Configuração Google Drive"
      ],
      "metadata": {
        "id": "Rh08kAld5mv-"
      }
    },
    {
      "cell_type": "code",
      "source": [
        "from pydrive.auth import GoogleAuth\n",
        "from pydrive.drive import GoogleDrive\n",
        "from google.colab import auth\n",
        "from oauth2client.client import GoogleCredentials\n",
        "\n",
        "\n",
        "\n",
        "# Authenticate and create the PyDrive client.\n",
        "auth.authenticate_user()\n",
        "gauth = GoogleAuth()\n",
        "gauth.credentials = GoogleCredentials.get_application_default()\n",
        "drive = GoogleDrive(gauth)\n",
        "\n",
        "\n",
        "# Dowloand do Arquivo\n",
        "file_id = '1WaymK35JtvGMsHtjck4EFJlFUSyPfz8r'\n",
        "downloaded = drive.CreateFile({'id':file_id})\n",
        "downloaded.FetchMetadata(fetch_all=True)\n",
        "downloaded.GetContentFile(downloaded.metadata['title'])\n"
      ],
      "metadata": {
        "id": "hCs2HY11M-3O"
      },
      "execution_count": 1,
      "outputs": []
    },
    {
      "cell_type": "markdown",
      "source": [
        "##Importação das Bibliotecas"
      ],
      "metadata": {
        "id": "jrTadS_i5yMq"
      }
    },
    {
      "cell_type": "code",
      "source": [
        "!pip install pandera"
      ],
      "metadata": {
        "id": "hdCIeRd66TYw",
        "colab": {
          "base_uri": "https://localhost:8080/"
        },
        "outputId": "8b80e875-98a0-4279-d3d8-5a2930c02968"
      },
      "execution_count": 2,
      "outputs": [
        {
          "output_type": "stream",
          "name": "stdout",
          "text": [
            "Looking in indexes: https://pypi.org/simple, https://us-python.pkg.dev/colab-wheels/public/simple/\n",
            "Requirement already satisfied: pandera in /usr/local/lib/python3.7/dist-packages (0.13.4)\n",
            "Requirement already satisfied: typing-extensions>=3.7.4.3 in /usr/local/lib/python3.7/dist-packages (from pandera) (4.1.1)\n",
            "Requirement already satisfied: pydantic in /usr/local/lib/python3.7/dist-packages (from pandera) (1.10.2)\n",
            "Requirement already satisfied: packaging>=20.0 in /usr/local/lib/python3.7/dist-packages (from pandera) (21.3)\n",
            "Requirement already satisfied: numpy>=1.19.0 in /usr/local/lib/python3.7/dist-packages (from pandera) (1.21.6)\n",
            "Requirement already satisfied: wrapt in /usr/local/lib/python3.7/dist-packages (from pandera) (1.14.1)\n",
            "Requirement already satisfied: pandas>=1.2.0 in /usr/local/lib/python3.7/dist-packages (from pandera) (1.3.5)\n",
            "Requirement already satisfied: typing-inspect>=0.6.0 in /usr/local/lib/python3.7/dist-packages (from pandera) (0.8.0)\n",
            "Requirement already satisfied: pyparsing!=3.0.5,>=2.0.2 in /usr/local/lib/python3.7/dist-packages (from packaging>=20.0->pandera) (3.0.9)\n",
            "Requirement already satisfied: python-dateutil>=2.7.3 in /usr/local/lib/python3.7/dist-packages (from pandas>=1.2.0->pandera) (2.8.2)\n",
            "Requirement already satisfied: pytz>=2017.3 in /usr/local/lib/python3.7/dist-packages (from pandas>=1.2.0->pandera) (2022.6)\n",
            "Requirement already satisfied: six>=1.5 in /usr/local/lib/python3.7/dist-packages (from python-dateutil>=2.7.3->pandas>=1.2.0->pandera) (1.15.0)\n",
            "Requirement already satisfied: mypy-extensions>=0.3.0 in /usr/local/lib/python3.7/dist-packages (from typing-inspect>=0.6.0->pandera) (0.4.3)\n"
          ]
        }
      ]
    },
    {
      "cell_type": "code",
      "source": [
        "import pandas as pd\n",
        "import pandera as pa\n",
        "import numpy as np"
      ],
      "metadata": {
        "id": "d3_m31rN50Dt"
      },
      "execution_count": 3,
      "outputs": []
    },
    {
      "cell_type": "markdown",
      "source": [
        "##Extração do dataset"
      ],
      "metadata": {
        "id": "9qvOoZGO6eYS"
      }
    },
    {
      "cell_type": "code",
      "source": [
        "df = pd.read_json(\"data-celi_9llyHC-1-dTorBmd.json\") "
      ],
      "metadata": {
        "id": "oSItV96CNZw4"
      },
      "execution_count": 4,
      "outputs": []
    },
    {
      "cell_type": "markdown",
      "source": [
        "##Pre-Analise"
      ],
      "metadata": {
        "id": "fqYO-cBM9shf"
      }
    },
    {
      "cell_type": "code",
      "source": [
        "df.dtypes"
      ],
      "metadata": {
        "colab": {
          "base_uri": "https://localhost:8080/"
        },
        "id": "YNOhQFXA83Pf",
        "outputId": "f4db759a-7413-40bc-cd39-b3d0aeb62bed"
      },
      "execution_count": 5,
      "outputs": [
        {
          "output_type": "execute_result",
          "data": {
            "text/plain": [
              "name           object\n",
              "phone          object\n",
              "email          object\n",
              "address        object\n",
              "postalZip      object\n",
              "region         object\n",
              "country        object\n",
              "list            int64\n",
              "numberrange     int64\n",
              "currency       object\n",
              "dtype: object"
            ]
          },
          "metadata": {},
          "execution_count": 5
        }
      ]
    },
    {
      "cell_type": "code",
      "source": [
        "df.postalZip.is_unique"
      ],
      "metadata": {
        "colab": {
          "base_uri": "https://localhost:8080/"
        },
        "id": "38YjtqbF9Ulz",
        "outputId": "306687ab-4605-4d12-f716-5fd6bdfde59f"
      },
      "execution_count": 6,
      "outputs": [
        {
          "output_type": "execute_result",
          "data": {
            "text/plain": [
              "False"
            ]
          },
          "metadata": {},
          "execution_count": 6
        }
      ]
    },
    {
      "cell_type": "code",
      "source": [
        "df.replace([' '],pd.NA, inplace=True)"
      ],
      "metadata": {
        "id": "OMxSQgZb92Th"
      },
      "execution_count": 7,
      "outputs": []
    },
    {
      "cell_type": "code",
      "source": [
        "df.isna().sum()"
      ],
      "metadata": {
        "id": "vOa5Dt6a-LSz",
        "colab": {
          "base_uri": "https://localhost:8080/"
        },
        "outputId": "16eddf51-39ab-421c-8e0c-b2a0085ab786"
      },
      "execution_count": 8,
      "outputs": [
        {
          "output_type": "execute_result",
          "data": {
            "text/plain": [
              "name           0\n",
              "phone          0\n",
              "email          0\n",
              "address        0\n",
              "postalZip      0\n",
              "region         0\n",
              "country        0\n",
              "list           0\n",
              "numberrange    0\n",
              "currency       0\n",
              "dtype: int64"
            ]
          },
          "metadata": {},
          "execution_count": 8
        }
      ]
    },
    {
      "cell_type": "code",
      "source": [
        "df.dtypes"
      ],
      "metadata": {
        "colab": {
          "base_uri": "https://localhost:8080/"
        },
        "id": "AZj63nKj-iBt",
        "outputId": "3ee54f65-a9cf-44f5-d998-0134acc4c981"
      },
      "execution_count": 9,
      "outputs": [
        {
          "output_type": "execute_result",
          "data": {
            "text/plain": [
              "name           object\n",
              "phone          object\n",
              "email          object\n",
              "address        object\n",
              "postalZip      object\n",
              "region         object\n",
              "country        object\n",
              "list            int64\n",
              "numberrange     int64\n",
              "currency       object\n",
              "dtype: object"
            ]
          },
          "metadata": {},
          "execution_count": 9
        }
      ]
    },
    {
      "cell_type": "markdown",
      "source": [
        "##Tratamento de dados"
      ],
      "metadata": {
        "id": "3mxo1Dx9AaII"
      }
    },
    {
      "cell_type": "code",
      "source": [
        "df.dtypes"
      ],
      "metadata": {
        "id": "MnunORQsCuuY",
        "colab": {
          "base_uri": "https://localhost:8080/"
        },
        "outputId": "8cd572d2-e6fa-4fb4-9935-61befe53bb86"
      },
      "execution_count": 10,
      "outputs": [
        {
          "output_type": "execute_result",
          "data": {
            "text/plain": [
              "name           object\n",
              "phone          object\n",
              "email          object\n",
              "address        object\n",
              "postalZip      object\n",
              "region         object\n",
              "country        object\n",
              "list            int64\n",
              "numberrange     int64\n",
              "currency       object\n",
              "dtype: object"
            ]
          },
          "metadata": {},
          "execution_count": 10
        }
      ]
    },
    {
      "cell_type": "code",
      "source": [
        "df['currency'] = df['currency'].str.replace('$','').astype(float)"
      ],
      "metadata": {
        "id": "H2G5zfMkBi0Y",
        "colab": {
          "base_uri": "https://localhost:8080/"
        },
        "outputId": "abc4ca1c-22f0-4b0f-d56f-b8cea3f63156"
      },
      "execution_count": 11,
      "outputs": [
        {
          "output_type": "stream",
          "name": "stderr",
          "text": [
            "/usr/local/lib/python3.7/dist-packages/ipykernel_launcher.py:1: FutureWarning: The default value of regex will change from True to False in a future version. In addition, single character regular expressions will *not* be treated as literal strings when regex=True.\n",
            "  \"\"\"Entry point for launching an IPython kernel.\n"
          ]
        }
      ]
    },
    {
      "cell_type": "markdown",
      "source": [
        "##Validação dos dados"
      ],
      "metadata": {
        "id": "ZSsQirEg-5Sm"
      }
    },
    {
      "cell_type": "code",
      "source": [
        "schema = pa.DataFrameSchema(\n",
        "      columns = {\n",
        "          'name':pa.Column(pa.String),\n",
        "          'phone':pa.Column(pa.String),\n",
        "          'email':pa.Column(pa.String),\n",
        "          'address':pa.Column(pa.String),\n",
        "          'postalZip':pa.Column(pa.String),\n",
        "          'list':pa.Column(pa.Int),\n",
        "          'numberrange':pa.Column(pa.Int),\n",
        "          'currency':pa.Column(pa.Float)\n",
        "      }\n",
        "  )"
      ],
      "metadata": {
        "id": "4XeDQuac-070"
      },
      "execution_count": 12,
      "outputs": []
    },
    {
      "cell_type": "code",
      "source": [
        "schema.validate(df)"
      ],
      "metadata": {
        "id": "H4uHm2aS_qAP",
        "colab": {
          "base_uri": "https://localhost:8080/",
          "height": 641
        },
        "outputId": "00d3a646-fe3c-4396-80dc-a84afdd3e3d2"
      },
      "execution_count": 13,
      "outputs": [
        {
          "output_type": "execute_result",
          "data": {
            "text/plain": [
              "                   name           phone                           email  \\\n",
              "0          Jerry Snyder  1-963-621-3676  molestie.pharetra.nibh@aol.com   \n",
              "1         Evelyn Cortez  (438) 713-1664          eget.ipsum@outlook.org   \n",
              "2           Keane Gross  1-681-418-7743       ridiculus.mus@hotmail.net   \n",
              "3        Illana Collins  (356) 124-0101               eu@protonmail.com   \n",
              "4          Hedley Mejia  1-267-247-1174                       a@aol.org   \n",
              "..                  ...             ...                             ...   \n",
              "495        John Leonard  1-443-647-6638     ac.facilisis@protonmail.edu   \n",
              "496      Sylvia Raymond  (885) 686-6380           magna.sed@outlook.com   \n",
              "497     Kasimir Perkins  (254) 338-9683      dolor.vitae.dolor@yahoo.ca   \n",
              "498       Signe Shannon  1-656-860-4687             dapibus@outlook.edu   \n",
              "499  Cathleen Singleton  (467) 205-7385       erat.nonummy@hotmail.couk   \n",
              "\n",
              "                            address postalZip                      region  \\\n",
              "0                631-6614 Quis Road   3715 CO                      Ankara   \n",
              "1                283-4910 Quis Road     69845         Zaporizhzhia oblast   \n",
              "2      P.O. Box 957, 1870 Donec St.     12528            Central Sulawesi   \n",
              "3            978-5629 Semper Street     76135                       Maule   \n",
              "4    P.O. Box 461, 9908 Luctus Road   3543 LM  Provence-Alpes-Côte d'Azur   \n",
              "..                              ...       ...                         ...   \n",
              "495     Ap #907-7737 Quisque Avenue    979592                   Andalucía   \n",
              "496          Ap #662-2621 Nisi. Av.      4032                  Puntarenas   \n",
              "497   P.O. Box 753, 4111 Risus. Ave      4648                     Abruzzo   \n",
              "498                    4932 Sit St.   K10 2DR                    Oklahoma   \n",
              "499                1378 Urna Avenue    395675                  Calabarzon   \n",
              "\n",
              "         country  list  numberrange  currency  \n",
              "0         France    11           10     42.23  \n",
              "1         Sweden    13            5     62.78  \n",
              "2         Sweden    11           10     36.01  \n",
              "3         Sweden    13            5     37.14  \n",
              "4         Canada     5            4     10.49  \n",
              "..           ...   ...          ...       ...  \n",
              "495    Australia    17            0      3.87  \n",
              "496    Australia     7            2     75.51  \n",
              "497  Philippines     7            3     47.15  \n",
              "498       Mexico     7            4     92.16  \n",
              "499  Philippines    15            3     61.74  \n",
              "\n",
              "[500 rows x 10 columns]"
            ],
            "text/html": [
              "\n",
              "  <div id=\"df-0fb538d2-0919-4f1a-bfaa-3a057afbf69e\">\n",
              "    <div class=\"colab-df-container\">\n",
              "      <div>\n",
              "<style scoped>\n",
              "    .dataframe tbody tr th:only-of-type {\n",
              "        vertical-align: middle;\n",
              "    }\n",
              "\n",
              "    .dataframe tbody tr th {\n",
              "        vertical-align: top;\n",
              "    }\n",
              "\n",
              "    .dataframe thead th {\n",
              "        text-align: right;\n",
              "    }\n",
              "</style>\n",
              "<table border=\"1\" class=\"dataframe\">\n",
              "  <thead>\n",
              "    <tr style=\"text-align: right;\">\n",
              "      <th></th>\n",
              "      <th>name</th>\n",
              "      <th>phone</th>\n",
              "      <th>email</th>\n",
              "      <th>address</th>\n",
              "      <th>postalZip</th>\n",
              "      <th>region</th>\n",
              "      <th>country</th>\n",
              "      <th>list</th>\n",
              "      <th>numberrange</th>\n",
              "      <th>currency</th>\n",
              "    </tr>\n",
              "  </thead>\n",
              "  <tbody>\n",
              "    <tr>\n",
              "      <th>0</th>\n",
              "      <td>Jerry Snyder</td>\n",
              "      <td>1-963-621-3676</td>\n",
              "      <td>molestie.pharetra.nibh@aol.com</td>\n",
              "      <td>631-6614 Quis Road</td>\n",
              "      <td>3715 CO</td>\n",
              "      <td>Ankara</td>\n",
              "      <td>France</td>\n",
              "      <td>11</td>\n",
              "      <td>10</td>\n",
              "      <td>42.23</td>\n",
              "    </tr>\n",
              "    <tr>\n",
              "      <th>1</th>\n",
              "      <td>Evelyn Cortez</td>\n",
              "      <td>(438) 713-1664</td>\n",
              "      <td>eget.ipsum@outlook.org</td>\n",
              "      <td>283-4910 Quis Road</td>\n",
              "      <td>69845</td>\n",
              "      <td>Zaporizhzhia oblast</td>\n",
              "      <td>Sweden</td>\n",
              "      <td>13</td>\n",
              "      <td>5</td>\n",
              "      <td>62.78</td>\n",
              "    </tr>\n",
              "    <tr>\n",
              "      <th>2</th>\n",
              "      <td>Keane Gross</td>\n",
              "      <td>1-681-418-7743</td>\n",
              "      <td>ridiculus.mus@hotmail.net</td>\n",
              "      <td>P.O. Box 957, 1870 Donec St.</td>\n",
              "      <td>12528</td>\n",
              "      <td>Central Sulawesi</td>\n",
              "      <td>Sweden</td>\n",
              "      <td>11</td>\n",
              "      <td>10</td>\n",
              "      <td>36.01</td>\n",
              "    </tr>\n",
              "    <tr>\n",
              "      <th>3</th>\n",
              "      <td>Illana Collins</td>\n",
              "      <td>(356) 124-0101</td>\n",
              "      <td>eu@protonmail.com</td>\n",
              "      <td>978-5629 Semper Street</td>\n",
              "      <td>76135</td>\n",
              "      <td>Maule</td>\n",
              "      <td>Sweden</td>\n",
              "      <td>13</td>\n",
              "      <td>5</td>\n",
              "      <td>37.14</td>\n",
              "    </tr>\n",
              "    <tr>\n",
              "      <th>4</th>\n",
              "      <td>Hedley Mejia</td>\n",
              "      <td>1-267-247-1174</td>\n",
              "      <td>a@aol.org</td>\n",
              "      <td>P.O. Box 461, 9908 Luctus Road</td>\n",
              "      <td>3543 LM</td>\n",
              "      <td>Provence-Alpes-Côte d'Azur</td>\n",
              "      <td>Canada</td>\n",
              "      <td>5</td>\n",
              "      <td>4</td>\n",
              "      <td>10.49</td>\n",
              "    </tr>\n",
              "    <tr>\n",
              "      <th>...</th>\n",
              "      <td>...</td>\n",
              "      <td>...</td>\n",
              "      <td>...</td>\n",
              "      <td>...</td>\n",
              "      <td>...</td>\n",
              "      <td>...</td>\n",
              "      <td>...</td>\n",
              "      <td>...</td>\n",
              "      <td>...</td>\n",
              "      <td>...</td>\n",
              "    </tr>\n",
              "    <tr>\n",
              "      <th>495</th>\n",
              "      <td>John Leonard</td>\n",
              "      <td>1-443-647-6638</td>\n",
              "      <td>ac.facilisis@protonmail.edu</td>\n",
              "      <td>Ap #907-7737 Quisque Avenue</td>\n",
              "      <td>979592</td>\n",
              "      <td>Andalucía</td>\n",
              "      <td>Australia</td>\n",
              "      <td>17</td>\n",
              "      <td>0</td>\n",
              "      <td>3.87</td>\n",
              "    </tr>\n",
              "    <tr>\n",
              "      <th>496</th>\n",
              "      <td>Sylvia Raymond</td>\n",
              "      <td>(885) 686-6380</td>\n",
              "      <td>magna.sed@outlook.com</td>\n",
              "      <td>Ap #662-2621 Nisi. Av.</td>\n",
              "      <td>4032</td>\n",
              "      <td>Puntarenas</td>\n",
              "      <td>Australia</td>\n",
              "      <td>7</td>\n",
              "      <td>2</td>\n",
              "      <td>75.51</td>\n",
              "    </tr>\n",
              "    <tr>\n",
              "      <th>497</th>\n",
              "      <td>Kasimir Perkins</td>\n",
              "      <td>(254) 338-9683</td>\n",
              "      <td>dolor.vitae.dolor@yahoo.ca</td>\n",
              "      <td>P.O. Box 753, 4111 Risus. Ave</td>\n",
              "      <td>4648</td>\n",
              "      <td>Abruzzo</td>\n",
              "      <td>Philippines</td>\n",
              "      <td>7</td>\n",
              "      <td>3</td>\n",
              "      <td>47.15</td>\n",
              "    </tr>\n",
              "    <tr>\n",
              "      <th>498</th>\n",
              "      <td>Signe Shannon</td>\n",
              "      <td>1-656-860-4687</td>\n",
              "      <td>dapibus@outlook.edu</td>\n",
              "      <td>4932 Sit St.</td>\n",
              "      <td>K10 2DR</td>\n",
              "      <td>Oklahoma</td>\n",
              "      <td>Mexico</td>\n",
              "      <td>7</td>\n",
              "      <td>4</td>\n",
              "      <td>92.16</td>\n",
              "    </tr>\n",
              "    <tr>\n",
              "      <th>499</th>\n",
              "      <td>Cathleen Singleton</td>\n",
              "      <td>(467) 205-7385</td>\n",
              "      <td>erat.nonummy@hotmail.couk</td>\n",
              "      <td>1378 Urna Avenue</td>\n",
              "      <td>395675</td>\n",
              "      <td>Calabarzon</td>\n",
              "      <td>Philippines</td>\n",
              "      <td>15</td>\n",
              "      <td>3</td>\n",
              "      <td>61.74</td>\n",
              "    </tr>\n",
              "  </tbody>\n",
              "</table>\n",
              "<p>500 rows × 10 columns</p>\n",
              "</div>\n",
              "      <button class=\"colab-df-convert\" onclick=\"convertToInteractive('df-0fb538d2-0919-4f1a-bfaa-3a057afbf69e')\"\n",
              "              title=\"Convert this dataframe to an interactive table.\"\n",
              "              style=\"display:none;\">\n",
              "        \n",
              "  <svg xmlns=\"http://www.w3.org/2000/svg\" height=\"24px\"viewBox=\"0 0 24 24\"\n",
              "       width=\"24px\">\n",
              "    <path d=\"M0 0h24v24H0V0z\" fill=\"none\"/>\n",
              "    <path d=\"M18.56 5.44l.94 2.06.94-2.06 2.06-.94-2.06-.94-.94-2.06-.94 2.06-2.06.94zm-11 1L8.5 8.5l.94-2.06 2.06-.94-2.06-.94L8.5 2.5l-.94 2.06-2.06.94zm10 10l.94 2.06.94-2.06 2.06-.94-2.06-.94-.94-2.06-.94 2.06-2.06.94z\"/><path d=\"M17.41 7.96l-1.37-1.37c-.4-.4-.92-.59-1.43-.59-.52 0-1.04.2-1.43.59L10.3 9.45l-7.72 7.72c-.78.78-.78 2.05 0 2.83L4 21.41c.39.39.9.59 1.41.59.51 0 1.02-.2 1.41-.59l7.78-7.78 2.81-2.81c.8-.78.8-2.07 0-2.86zM5.41 20L4 18.59l7.72-7.72 1.47 1.35L5.41 20z\"/>\n",
              "  </svg>\n",
              "      </button>\n",
              "      \n",
              "  <style>\n",
              "    .colab-df-container {\n",
              "      display:flex;\n",
              "      flex-wrap:wrap;\n",
              "      gap: 12px;\n",
              "    }\n",
              "\n",
              "    .colab-df-convert {\n",
              "      background-color: #E8F0FE;\n",
              "      border: none;\n",
              "      border-radius: 50%;\n",
              "      cursor: pointer;\n",
              "      display: none;\n",
              "      fill: #1967D2;\n",
              "      height: 32px;\n",
              "      padding: 0 0 0 0;\n",
              "      width: 32px;\n",
              "    }\n",
              "\n",
              "    .colab-df-convert:hover {\n",
              "      background-color: #E2EBFA;\n",
              "      box-shadow: 0px 1px 2px rgba(60, 64, 67, 0.3), 0px 1px 3px 1px rgba(60, 64, 67, 0.15);\n",
              "      fill: #174EA6;\n",
              "    }\n",
              "\n",
              "    [theme=dark] .colab-df-convert {\n",
              "      background-color: #3B4455;\n",
              "      fill: #D2E3FC;\n",
              "    }\n",
              "\n",
              "    [theme=dark] .colab-df-convert:hover {\n",
              "      background-color: #434B5C;\n",
              "      box-shadow: 0px 1px 3px 1px rgba(0, 0, 0, 0.15);\n",
              "      filter: drop-shadow(0px 1px 2px rgba(0, 0, 0, 0.3));\n",
              "      fill: #FFFFFF;\n",
              "    }\n",
              "  </style>\n",
              "\n",
              "      <script>\n",
              "        const buttonEl =\n",
              "          document.querySelector('#df-0fb538d2-0919-4f1a-bfaa-3a057afbf69e button.colab-df-convert');\n",
              "        buttonEl.style.display =\n",
              "          google.colab.kernel.accessAllowed ? 'block' : 'none';\n",
              "\n",
              "        async function convertToInteractive(key) {\n",
              "          const element = document.querySelector('#df-0fb538d2-0919-4f1a-bfaa-3a057afbf69e');\n",
              "          const dataTable =\n",
              "            await google.colab.kernel.invokeFunction('convertToInteractive',\n",
              "                                                     [key], {});\n",
              "          if (!dataTable) return;\n",
              "\n",
              "          const docLinkHtml = 'Like what you see? Visit the ' +\n",
              "            '<a target=\"_blank\" href=https://colab.research.google.com/notebooks/data_table.ipynb>data table notebook</a>'\n",
              "            + ' to learn more about interactive tables.';\n",
              "          element.innerHTML = '';\n",
              "          dataTable['output_type'] = 'display_data';\n",
              "          await google.colab.output.renderOutput(dataTable, element);\n",
              "          const docLink = document.createElement('div');\n",
              "          docLink.innerHTML = docLinkHtml;\n",
              "          element.appendChild(docLink);\n",
              "        }\n",
              "      </script>\n",
              "    </div>\n",
              "  </div>\n",
              "  "
            ]
          },
          "metadata": {},
          "execution_count": 13
        }
      ]
    },
    {
      "cell_type": "code",
      "source": [
        "df.rename(columns={'name':'nome'}, inplace=True)"
      ],
      "metadata": {
        "id": "KcSuOj4agDYH"
      },
      "execution_count": 14,
      "outputs": []
    },
    {
      "cell_type": "markdown",
      "source": [
        "##TRANSPORTAR DADOS"
      ],
      "metadata": {
        "id": "fSfXQUxdEJZK"
      }
    },
    {
      "cell_type": "code",
      "source": [
        "#Transformando arquivo em xlsx formato Google Sheets\n",
        "df.to_excel(\"dados.xlsx\", index=False)"
      ],
      "metadata": {
        "id": "e7vh50ciEKmo"
      },
      "execution_count": 15,
      "outputs": []
    },
    {
      "cell_type": "code",
      "source": [
        "#Enviado arquivo para Google Drive\n",
        "#ele ta criando um novo arquivo e nao substituindo por um existente\n",
        "file1 = drive.CreateFile({'title': 'dados.xlsx'})\n",
        "file1.SetContentFile('/content/dados.xlsx')\n",
        "file1.Upload()\n",
        "\n"
      ],
      "metadata": {
        "id": "BdN7mrXDcQAH"
      },
      "execution_count": 16,
      "outputs": []
    },
    {
      "cell_type": "code",
      "source": [
        "#Substituir arquivo\n",
        "#https://pythonhosted.org/PyDrive/filemanagement.html#update-file-metadata\n",
        "# file_list = drive.ListFile({'q':\"'1raI1Pjugw_KPkvqM9avrbiYbrlgw3Xpt'  in parents and  trashed=False\"}).GetList()\n",
        "\n",
        "# # for x in range(len(file_list)):\n",
        "# #     if file_list[x]['title'] == file_name:\n",
        "# #         file_id = file_list[x]['id']\n",
        "\n",
        "# # file1 = drive.CreateFile({'id':file_id})\n",
        "# # file1.SetContentFile('file_name')\n",
        "# # file1.Upload()\n",
        "\n",
        "# for x in range(len(file_list)):\n",
        "#     if file_list[x]['title'] == '/content/dados.xlsx':\n",
        "#         file_id = file_list[x]['id']\n",
        "\n",
        "# file1 = drive.CreateFile({'title': 'dados.xlsx'})\n",
        "# file1.SetContentFile('/content/dados.xlsx')\n",
        "# file1.Upload()"
      ],
      "metadata": {
        "id": "BUcRWXUZrp8S"
      },
      "execution_count": 17,
      "outputs": []
    },
    {
      "cell_type": "code",
      "source": [],
      "metadata": {
        "id": "x1WFmfWAtZKA"
      },
      "execution_count": 17,
      "outputs": []
    }
  ]
}