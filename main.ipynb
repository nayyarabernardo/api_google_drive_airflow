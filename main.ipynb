{
  "nbformat": 4,
  "nbformat_minor": 0,
  "metadata": {
    "colab": {
      "provenance": [],
      "authorship_tag": "ABX9TyPKwTp7thdIQBo5pY12TeCv"
    },
    "kernelspec": {
      "name": "python3",
      "display_name": "Python 3"
    },
    "language_info": {
      "name": "python"
    }
  },
  "cells": [
    {
      "cell_type": "markdown",
      "source": [
        "Você deve acessar o arquivo JSON disponibilizado no seguinte link: https://drive.google.com/drive/folders/1fdNuQje5ZUWrm3cWMPPDtypTkpgRwg3Q?usp=sharing\n",
        "\n",
        "E enviar estes dados para uma planilha no Google Sheets.\n",
        "\n",
        "Atenção:\n",
        "Você deve criar um repositório público e não listado em um GIT para compartilhar conosco;\n",
        "Compartilhar o Sheets final (o link precisa ser público);\n",
        "Lembrar de pôr no repositório os arquivos da automação;"
      ],
      "metadata": {
        "id": "Xkuzx8xAEvnT"
      }
    },
    {
      "cell_type": "markdown",
      "source": [
        "##Configuração Google Drive"
      ],
      "metadata": {
        "id": "Rh08kAld5mv-"
      }
    },
    {
      "cell_type": "code",
      "source": [
        "from pydrive.auth import GoogleAuth\n",
        "from pydrive.drive import GoogleDrive\n",
        "from google.colab import auth\n",
        "from oauth2client.client import GoogleCredentials\n",
        "\n",
        "\n",
        "\n",
        "# Authenticate and create the PyDrive client.\n",
        "auth.authenticate_user()\n",
        "gauth = GoogleAuth()\n",
        "gauth.credentials = GoogleCredentials.get_application_default()\n",
        "drive = GoogleDrive(gauth)\n",
        "\n",
        "\n",
        "# Dowloand do Arquivo\n",
        "file_id = '1WaymK35JtvGMsHtjck4EFJlFUSyPfz8r'\n",
        "downloaded = drive.CreateFile({'id':file_id})\n",
        "downloaded.FetchMetadata(fetch_all=True)\n",
        "downloaded.GetContentFile(downloaded.metadata['title'])\n"
      ],
      "metadata": {
        "id": "hCs2HY11M-3O"
      },
      "execution_count": 3,
      "outputs": []
    },
    {
      "cell_type": "markdown",
      "source": [
        "##Importação das Bibliotecas"
      ],
      "metadata": {
        "id": "jrTadS_i5yMq"
      }
    },
    {
      "cell_type": "code",
      "source": [
        "!pip install pandera"
      ],
      "metadata": {
        "id": "hdCIeRd66TYw"
      },
      "execution_count": 4,
      "outputs": []
    },
    {
      "cell_type": "code",
      "source": [
        "import pandas as pd\n",
        "import pandera as pa\n",
        "import numpy as np"
      ],
      "metadata": {
        "id": "d3_m31rN50Dt"
      },
      "execution_count": 5,
      "outputs": []
    },
    {
      "cell_type": "markdown",
      "source": [
        "##Extração do dataset"
      ],
      "metadata": {
        "id": "9qvOoZGO6eYS"
      }
    },
    {
      "cell_type": "code",
      "source": [
        "df = pd.read_json(\"data-celi_9llyHC-1-dTorBmd.json\") "
      ],
      "metadata": {
        "id": "oSItV96CNZw4"
      },
      "execution_count": 6,
      "outputs": []
    },
    {
      "cell_type": "markdown",
      "source": [
        "##Pre-Analise"
      ],
      "metadata": {
        "id": "fqYO-cBM9shf"
      }
    },
    {
      "cell_type": "code",
      "source": [
        "df.dtypes"
      ],
      "metadata": {
        "id": "YNOhQFXA83Pf"
      },
      "execution_count": null,
      "outputs": []
    },
    {
      "cell_type": "code",
      "source": [
        "df.postalZip.is_unique"
      ],
      "metadata": {
        "id": "38YjtqbF9Ulz"
      },
      "execution_count": null,
      "outputs": []
    },
    {
      "cell_type": "code",
      "source": [
        "df.replace([' '],pd.NA, inplace=True)"
      ],
      "metadata": {
        "id": "OMxSQgZb92Th"
      },
      "execution_count": null,
      "outputs": []
    },
    {
      "cell_type": "code",
      "source": [
        "df.isna().sum()"
      ],
      "metadata": {
        "id": "vOa5Dt6a-LSz"
      },
      "execution_count": null,
      "outputs": []
    },
    {
      "cell_type": "code",
      "source": [
        "df.dtypes"
      ],
      "metadata": {
        "id": "AZj63nKj-iBt"
      },
      "execution_count": null,
      "outputs": []
    },
    {
      "cell_type": "markdown",
      "source": [
        "##Tratamento de dados"
      ],
      "metadata": {
        "id": "3mxo1Dx9AaII"
      }
    },
    {
      "cell_type": "code",
      "source": [
        "df.dtypes"
      ],
      "metadata": {
        "id": "MnunORQsCuuY"
      },
      "execution_count": null,
      "outputs": []
    },
    {
      "cell_type": "code",
      "source": [
        "df['currency'] = df['currency'].str.replace('$','').astype(float)"
      ],
      "metadata": {
        "id": "H2G5zfMkBi0Y",
        "colab": {
          "base_uri": "https://localhost:8080/"
        },
        "outputId": "f069a1c4-9c35-4676-b07d-5e449030c044"
      },
      "execution_count": 9,
      "outputs": [
        {
          "output_type": "stream",
          "name": "stderr",
          "text": [
            "/usr/local/lib/python3.7/dist-packages/ipykernel_launcher.py:1: FutureWarning: The default value of regex will change from True to False in a future version. In addition, single character regular expressions will *not* be treated as literal strings when regex=True.\n",
            "  \"\"\"Entry point for launching an IPython kernel.\n"
          ]
        }
      ]
    },
    {
      "cell_type": "markdown",
      "source": [
        "##Validação dos dados"
      ],
      "metadata": {
        "id": "ZSsQirEg-5Sm"
      }
    },
    {
      "cell_type": "code",
      "source": [
        "schema = pa.DataFrameSchema(\n",
        "      columns = {\n",
        "          'name':pa.Column(pa.String),\n",
        "          'phone':pa.Column(pa.String),\n",
        "          'email':pa.Column(pa.String),\n",
        "          'address':pa.Column(pa.String),\n",
        "          'postalZip':pa.Column(pa.String),\n",
        "          'list':pa.Column(pa.Int),\n",
        "          'numberrange':pa.Column(pa.Int),\n",
        "          'currency':pa.Column(pa.Float)\n",
        "      }\n",
        "  )"
      ],
      "metadata": {
        "id": "4XeDQuac-070"
      },
      "execution_count": 10,
      "outputs": []
    },
    {
      "cell_type": "code",
      "source": [
        "schema.validate(df)"
      ],
      "metadata": {
        "id": "H4uHm2aS_qAP"
      },
      "execution_count": null,
      "outputs": []
    },
    {
      "cell_type": "code",
      "source": [
        "df.rename(columns={'name':'nome'}, inplace=True)"
      ],
      "metadata": {
        "id": "KcSuOj4agDYH"
      },
      "execution_count": 12,
      "outputs": []
    },
    {
      "cell_type": "markdown",
      "source": [
        "##TRANSPORTAR DADOS"
      ],
      "metadata": {
        "id": "fSfXQUxdEJZK"
      }
    },
    {
      "cell_type": "code",
      "source": [
        "#Transformando arquivo em xlsx formato Google Sheets\n",
        "df.to_excel(\"dados.xlsx\", index=False)"
      ],
      "metadata": {
        "id": "e7vh50ciEKmo"
      },
      "execution_count": 13,
      "outputs": []
    },
    {
      "cell_type": "code",
      "source": [
        "#Enviado arquivo para Google Drive\n",
        "#ele ta criando um novo arquivo e nao substituindo por um existente\n",
        "file1 = drive.CreateFile({'title': 'dados.xlsx'})\n",
        "file1.SetContentFile('/content/dados.xlsx')\n",
        "file1.Upload()"
      ],
      "metadata": {
        "id": "BdN7mrXDcQAH"
      },
      "execution_count": 14,
      "outputs": []
    }
  ]
}